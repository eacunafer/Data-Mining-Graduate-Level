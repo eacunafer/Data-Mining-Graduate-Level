{
 "cells": [
  {
   "cell_type": "markdown",
   "metadata": {},
   "source": [
    "### COMP 6315\n",
    "### Edgar Acuna\n",
    "### Septiembre 2018\n",
    "### Error Estimation (Prediction Estimation)"
   ]
  },
  {
   "cell_type": "markdown",
   "metadata": {},
   "source": [
    "### Ejemplo de estimacion de la prediccion  usando el clasificador LDA y las base de datos Diabetes y Vehicle"
   ]
  },
  {
   "cell_type": "code",
   "execution_count": 14,
   "metadata": {},
   "outputs": [],
   "source": [
    "import numpy as np\n",
    "import pandas as pd\n",
    "from sklearn.model_selection import train_test_split\n",
    "\n",
    "from sklearn.discriminant_analysis import LinearDiscriminantAnalysis\n"
   ]
  },
  {
   "cell_type": "markdown",
   "metadata": {},
   "source": [
    "### Ejemplo 1: Conjunto de datos Diabetes"
   ]
  },
  {
   "cell_type": "code",
   "execution_count": 15,
   "metadata": {},
   "outputs": [
    {
     "data": {
      "text/html": [
       "<div>\n",
       "<style scoped>\n",
       "    .dataframe tbody tr th:only-of-type {\n",
       "        vertical-align: middle;\n",
       "    }\n",
       "\n",
       "    .dataframe tbody tr th {\n",
       "        vertical-align: top;\n",
       "    }\n",
       "\n",
       "    .dataframe thead th {\n",
       "        text-align: right;\n",
       "    }\n",
       "</style>\n",
       "<table border=\"1\" class=\"dataframe\">\n",
       "  <thead>\n",
       "    <tr style=\"text-align: right;\">\n",
       "      <th></th>\n",
       "      <th>v1</th>\n",
       "      <th>v2</th>\n",
       "      <th>v3</th>\n",
       "      <th>v4</th>\n",
       "      <th>v5</th>\n",
       "      <th>v6</th>\n",
       "      <th>v7</th>\n",
       "      <th>V8</th>\n",
       "      <th>class</th>\n",
       "    </tr>\n",
       "  </thead>\n",
       "  <tbody>\n",
       "    <tr>\n",
       "      <th>0</th>\n",
       "      <td>6</td>\n",
       "      <td>148</td>\n",
       "      <td>72</td>\n",
       "      <td>35</td>\n",
       "      <td>0</td>\n",
       "      <td>33.6</td>\n",
       "      <td>0.627</td>\n",
       "      <td>50</td>\n",
       "      <td>2</td>\n",
       "    </tr>\n",
       "    <tr>\n",
       "      <th>1</th>\n",
       "      <td>1</td>\n",
       "      <td>85</td>\n",
       "      <td>66</td>\n",
       "      <td>29</td>\n",
       "      <td>0</td>\n",
       "      <td>26.6</td>\n",
       "      <td>0.351</td>\n",
       "      <td>31</td>\n",
       "      <td>1</td>\n",
       "    </tr>\n",
       "    <tr>\n",
       "      <th>2</th>\n",
       "      <td>8</td>\n",
       "      <td>183</td>\n",
       "      <td>64</td>\n",
       "      <td>0</td>\n",
       "      <td>0</td>\n",
       "      <td>23.3</td>\n",
       "      <td>0.672</td>\n",
       "      <td>32</td>\n",
       "      <td>2</td>\n",
       "    </tr>\n",
       "    <tr>\n",
       "      <th>3</th>\n",
       "      <td>1</td>\n",
       "      <td>89</td>\n",
       "      <td>66</td>\n",
       "      <td>23</td>\n",
       "      <td>94</td>\n",
       "      <td>28.1</td>\n",
       "      <td>0.167</td>\n",
       "      <td>21</td>\n",
       "      <td>1</td>\n",
       "    </tr>\n",
       "    <tr>\n",
       "      <th>4</th>\n",
       "      <td>0</td>\n",
       "      <td>137</td>\n",
       "      <td>40</td>\n",
       "      <td>35</td>\n",
       "      <td>168</td>\n",
       "      <td>43.1</td>\n",
       "      <td>2.288</td>\n",
       "      <td>33</td>\n",
       "      <td>2</td>\n",
       "    </tr>\n",
       "  </tbody>\n",
       "</table>\n",
       "</div>"
      ],
      "text/plain": [
       "   v1   v2  v3  v4   v5    v6     v7  V8  class\n",
       "0   6  148  72  35    0  33.6  0.627  50      2\n",
       "1   1   85  66  29    0  26.6  0.351  31      1\n",
       "2   8  183  64   0    0  23.3  0.672  32      2\n",
       "3   1   89  66  23   94  28.1  0.167  21      1\n",
       "4   0  137  40  35  168  43.1  2.288  33      2"
      ]
     },
     "execution_count": 15,
     "metadata": {},
     "output_type": "execute_result"
    }
   ],
   "source": [
    "names= ['v1', 'v2', 'v3', 'v4', 'v5', 'v6', 'v7','V8','class']\n",
    "diab=pd.read_table(\"http://academic.uprm.edu/eacuna/diabetes.dat\",header=None,names=names)\n",
    "diab.head()"
   ]
  },
  {
   "cell_type": "code",
   "execution_count": 16,
   "metadata": {},
   "outputs": [],
   "source": [
    "#Obteniendo el vector de clases y la matriz de predictoras\n",
    "y=diab[\"class\"]\n",
    "X=diab.iloc[:,0:8]\n",
    "y1=y.as_matrix()\n",
    "X1=X.as_matrix()"
   ]
  },
  {
   "cell_type": "markdown",
   "metadata": {},
   "source": [
    "### Haciendo el analisis discriminante y estimando el porcentaje de precision por resubstitucion"
   ]
  },
  {
   "cell_type": "code",
   "execution_count": 17,
   "metadata": {},
   "outputs": [
    {
     "data": {
      "text/plain": [
       "0.78385416666666663"
      ]
     },
     "execution_count": 17,
     "metadata": {},
     "output_type": "execute_result"
    }
   ],
   "source": [
    "ldadis = LinearDiscriminantAnalysis().fit(X1,y1)\n",
    "#Tasa de precision\n",
    "ldadis.score(X1, y1)"
   ]
  },
  {
   "cell_type": "markdown",
   "metadata": {},
   "source": [
    "### Estimando la precision  por validacion cruzada"
   ]
  },
  {
   "cell_type": "code",
   "execution_count": 18,
   "metadata": {},
   "outputs": [
    {
     "data": {
      "text/plain": [
       "array([ 0.74025974,  0.75324675,  0.80519481,  0.72727273,  0.72727273,\n",
       "        0.77922078,  0.80519481,  0.80519481,  0.76315789,  0.82894737])"
      ]
     },
     "execution_count": 18,
     "metadata": {},
     "output_type": "execute_result"
    }
   ],
   "source": [
    "from sklearn.model_selection import cross_val_score\n",
    "clf = LinearDiscriminantAnalysis()\n",
    "scores = cross_val_score(clf, X1, y1, cv=10)\n",
    "scores   "
   ]
  },
  {
   "cell_type": "code",
   "execution_count": 19,
   "metadata": {},
   "outputs": [
    {
     "name": "stdout",
     "output_type": "stream",
     "text": [
      "Accuracy: 0.773 (+/- 0.069)\n"
     ]
    }
   ],
   "source": [
    "#Hallando la precision media y un intervalo de confianza \n",
    "print(\"Accuracy: %0.3f (+/- %0.3f)\" % (scores.mean(), scores.std() * 2))"
   ]
  },
  {
   "cell_type": "markdown",
   "metadata": {},
   "source": [
    "### Estimando la precision por el metodo de Holdout"
   ]
  },
  {
   "cell_type": "code",
   "execution_count": 20,
   "metadata": {},
   "outputs": [
    {
     "data": {
      "text/plain": [
       "0.77922077922077926"
      ]
     },
     "execution_count": 20,
     "metadata": {},
     "output_type": "execute_result"
    }
   ],
   "source": [
    "X_train, X_test, y_train, y_test = train_test_split(X1, y1, test_size=0.3, random_state=0)\n",
    "X_train, y_train\n",
    "\n",
    "X_test, y_test\n",
    "\n",
    "ldadiab = LinearDiscriminantAnalysis().fit(X_train, y_train)\n",
    "ldadiab.score(X_test, y_test)"
   ]
  },
  {
   "cell_type": "markdown",
   "metadata": {},
   "source": [
    "### Ejemplo2. Leyendo los datos de vehiculos que tienen 4 clases y 18 predictoras"
   ]
  },
  {
   "cell_type": "code",
   "execution_count": 21,
   "metadata": {
    "scrolled": true
   },
   "outputs": [
    {
     "name": "stdout",
     "output_type": "stream",
     "text": [
      "<class 'pandas.core.frame.DataFrame'>\n",
      "RangeIndex: 846 entries, 0 to 845\n",
      "Data columns (total 19 columns):\n",
      "V1       846 non-null int64\n",
      "V2       846 non-null int64\n",
      "V3       846 non-null int64\n",
      "V4       846 non-null int64\n",
      "V5       846 non-null int64\n",
      "V6       846 non-null int64\n",
      "V7       846 non-null int64\n",
      "V8       846 non-null int64\n",
      "V9       846 non-null int64\n",
      "V10      846 non-null int64\n",
      "V11      846 non-null int64\n",
      "V12      846 non-null int64\n",
      "V13      846 non-null int64\n",
      "V14      846 non-null int64\n",
      "V15      846 non-null int64\n",
      "V16      846 non-null int64\n",
      "V17      846 non-null int64\n",
      "V18      846 non-null int64\n",
      "class    846 non-null int64\n",
      "dtypes: int64(19)\n",
      "memory usage: 125.6 KB\n"
     ]
    }
   ],
   "source": [
    "df1=pd.read_csv(\"http://academic.uprm.edu/eacuna/vehicle.csv\")\n",
    "df1.info()"
   ]
  },
  {
   "cell_type": "code",
   "execution_count": 22,
   "metadata": {},
   "outputs": [],
   "source": [
    "#Convirtiendo en matriz la tabla de predictoras y la columna de clases\n",
    "y=df1['class']\n",
    "X=df1.iloc[:,0:18]\n",
    "y1=y.as_matrix()\n",
    "X1=X.as_matrix()"
   ]
  },
  {
   "cell_type": "code",
   "execution_count": 23,
   "metadata": {},
   "outputs": [
    {
     "data": {
      "text/plain": [
       "0.7978723404255319"
      ]
     },
     "execution_count": 23,
     "metadata": {},
     "output_type": "execute_result"
    }
   ],
   "source": [
    "#Haciendo el analisis discriminante y calculando el porcentaje de precision\n",
    "ldadis = LinearDiscriminantAnalysis().fit(X1,y1)\n",
    "#Tasa de precision\n",
    "ldadis.score(X1, y1)"
   ]
  },
  {
   "cell_type": "code",
   "execution_count": 24,
   "metadata": {},
   "outputs": [
    {
     "data": {
      "text/plain": [
       "array([ 0.79069767,  0.74418605,  0.72941176,  0.77647059,  0.76470588,\n",
       "        0.78823529,  0.82352941,  0.82142857,  0.73493976,  0.84146341])"
      ]
     },
     "execution_count": 24,
     "metadata": {},
     "output_type": "execute_result"
    }
   ],
   "source": [
    "#Estimando la precision  por validacion cruzada\n",
    "from sklearn.model_selection import cross_val_score\n",
    "clf = LinearDiscriminantAnalysis()\n",
    "scores = cross_val_score(clf, X1, y1, cv=10)\n",
    "scores   "
   ]
  },
  {
   "cell_type": "code",
   "execution_count": 25,
   "metadata": {},
   "outputs": [
    {
     "name": "stdout",
     "output_type": "stream",
     "text": [
      "Accuracy: 0.78 (+/- 0.07)\n"
     ]
    }
   ],
   "source": [
    "#Hallando la precision media y un intervalo de confianza \n",
    "print(\"Accuracy: %0.2f (+/- %0.2f)\" % (scores.mean(), scores.std() * 2))"
   ]
  },
  {
   "cell_type": "code",
   "execution_count": 26,
   "metadata": {},
   "outputs": [
    {
     "data": {
      "text/plain": [
       "0.78740157480314965"
      ]
     },
     "execution_count": 26,
     "metadata": {},
     "output_type": "execute_result"
    }
   ],
   "source": [
    "#Estimando el error por el metodo holdout\n",
    "X_train, X_test, y_train, y_test = train_test_split(X1, y1, test_size=0.3, random_state=0)\n",
    "X_train, y_train\n",
    "\n",
    "X_test, y_test\n",
    "\n",
    "ldaveh = LinearDiscriminantAnalysis().fit(X_train, y_train)\n",
    "ldaveh.score(X_test, y_test)"
   ]
  }
 ],
 "metadata": {
  "kernelspec": {
   "display_name": "Python 2",
   "language": "python",
   "name": "python2"
  },
  "language_info": {
   "codemirror_mode": {
    "name": "ipython",
    "version": 2
   },
   "file_extension": ".py",
   "mimetype": "text/x-python",
   "name": "python",
   "nbconvert_exporter": "python",
   "pygments_lexer": "ipython2",
   "version": "2.7.13"
  }
 },
 "nbformat": 4,
 "nbformat_minor": 2
}
