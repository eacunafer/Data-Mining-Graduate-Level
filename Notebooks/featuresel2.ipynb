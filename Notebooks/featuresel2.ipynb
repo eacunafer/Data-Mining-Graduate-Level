{
 "cells": [
  {
   "cell_type": "markdown",
   "metadata": {},
   "source": [
    "### COMP 6315\n",
    "### Feature Selection en Clasificacion Supervisada: Metodos Wrappers\n",
    "### Edgar Acuna"
   ]
  },
  {
   "cell_type": "markdown",
   "metadata": {},
   "source": [
    "### Uso de la libreria mlxtend y de RFE de scikit-learn: Metodos forward y Backward "
   ]
  },
  {
   "cell_type": "code",
   "execution_count": 27,
   "metadata": {},
   "outputs": [],
   "source": [
    "import pandas as pd\n",
    "import matplotlib.pyplot as plt\n",
    "import seaborn as sns\n",
    "from mlxtend.feature_selection import SequentialFeatureSelector as SFS\n",
    "from sklearn.metrics import accuracy_score\n",
    "import numpy as np\n",
    "from sklearn.discriminant_analysis import LinearDiscriminantAnalysis\n",
    "from sklearn.feature_selection import RFE\n",
    "%matplotlib inline"
   ]
  },
  {
   "cell_type": "code",
   "execution_count": 28,
   "metadata": {},
   "outputs": [
    {
     "name": "stdout",
     "output_type": "stream",
     "text": [
      "(768, 9)\n"
     ]
    }
   ],
   "source": [
    "#Leyendo el conjunto de datos pima-diabetes \n",
    "url= \"http://academic.uprm.edu/eacuna/diabetes.dat\"\n",
    "names = ['preg', 'plas', 'pres', 'skin', 'test', 'mass', 'pedi', 'age', 'class']\n",
    "data = pd.read_table(url, names=names,header=None)\n",
    "print(data.shape)\n",
    "data.head()\n",
    "#normalizando los datos\n",
    "data1=data.drop('class',axis=1)\n",
    "data1_norm=(data1 - data1.min()) / (data1.max() - data1.min())\n",
    "data1_norm['class']=data['class']"
   ]
  },
  {
   "cell_type": "code",
   "execution_count": 29,
   "metadata": {},
   "outputs": [
    {
     "data": {
      "text/plain": [
       "<seaborn.axisgrid.FacetGrid at 0xb88a358>"
      ]
     },
     "execution_count": 29,
     "metadata": {},
     "output_type": "execute_result"
    },
    {
     "data": {
      "text/plain": [
       "<matplotlib.figure.Figure at 0xc1efb70>"
      ]
     },
     "metadata": {},
     "output_type": "display_data"
    },
    {
     "data": {
      "image/png": "[encoded data removed]",
      "text/plain": [
       "<matplotlib.figure.Figure at 0xd6a7a90>"
      ]
     },
     "metadata": {},
     "output_type": "display_data"
    }
   ],
   "source": [
    "plt.figure(figsize=(20,20))\n",
    "df_long = pd.melt(data1_norm, \"class\", var_name=\"a\", value_name=\"c\")\n",
    "sns.factorplot(\"a\", hue=\"class\", y=\"c\", data=df_long, kind=\"box\")"
   ]
  },
  {
   "cell_type": "markdown",
   "metadata": {
    "collapsed": true
   },
   "source": [
    "Comentario: De los boxplots se puede ver que las variables que mas se diferen"
   ]
  },
  {
   "cell_type": "code",
   "execution_count": 30,
   "metadata": {},
   "outputs": [],
   "source": [
    "#Forward usando el clasificador LDA\n",
    "y=data['class']\n",
    "X=data.iloc[:,0:8]\n",
    "y1=y.as_matrix()\n",
    "X1=X.as_matrix()\n",
    "names=X.columns\n",
    "estimator = LinearDiscriminantAnalysis()"
   ]
  },
  {
   "cell_type": "code",
   "execution_count": 31,
   "metadata": {},
   "outputs": [],
   "source": [
    "sfs1 = SFS(estimator, k_features=3, forward=True, floating=False, verbose=0,scoring='accuracy',cv=0)\n",
    "sfs1 = sfs1.fit(X1, y1)"
   ]
  },
  {
   "cell_type": "code",
   "execution_count": 32,
   "metadata": {},
   "outputs": [
    {
     "data": {
      "text/plain": [
       "{1: {'avg_score': 0.74609375,\n",
       "  'cv_scores': array([ 0.74609375]),\n",
       "  'feature_idx': (1,)},\n",
       " 2: {'avg_score': 0.77083333333333337,\n",
       "  'cv_scores': array([ 0.77083333]),\n",
       "  'feature_idx': (1, 5)},\n",
       " 3: {'avg_score': 0.77213541666666663,\n",
       "  'cv_scores': array([ 0.77213542]),\n",
       "  'feature_idx': (1, 5, 6)}}"
      ]
     },
     "execution_count": 32,
     "metadata": {},
     "output_type": "execute_result"
    }
   ],
   "source": [
    "sfs1.subsets_"
   ]
  },
  {
   "cell_type": "markdown",
   "metadata": {},
   "source": [
    "Comentario. las mejores tres variables son: plas, mass y pedi"
   ]
  },
  {
   "cell_type": "code",
   "execution_count": 33,
   "metadata": {
    "scrolled": true
   },
   "outputs": [],
   "source": [
    "# Forward con Gaussian Bayes\n",
    "from sklearn.naive_bayes import GaussianNB\n",
    "clf = GaussianNB()\n",
    "sfs1 = SFS(clf, k_features=3, forward=True, floating=False, verbose=0,scoring='accuracy',cv=0)\n",
    "sfs1 = sfs1.fit(X1, y1)"
   ]
  },
  {
   "cell_type": "code",
   "execution_count": 34,
   "metadata": {},
   "outputs": [
    {
     "data": {
      "text/plain": [
       "{1: {'avg_score': 0.75, 'cv_scores': array([ 0.75]), 'feature_idx': (1,)},\n",
       " 2: {'avg_score': 0.76692708333333337,\n",
       "  'cv_scores': array([ 0.76692708]),\n",
       "  'feature_idx': (1, 5)},\n",
       " 3: {'avg_score': 0.76692708333333337,\n",
       "  'cv_scores': array([ 0.76692708]),\n",
       "  'feature_idx': (1, 2, 5)}}"
      ]
     },
     "execution_count": 34,
     "metadata": {},
     "output_type": "execute_result"
    }
   ],
   "source": [
    "sfs1.subsets_"
   ]
  },
  {
   "cell_type": "markdown",
   "metadata": {},
   "source": [
    "Comentario. las 3 mejores variables son: plas,pres y mass"
   ]
  },
  {
   "cell_type": "code",
   "execution_count": 35,
   "metadata": {
    "scrolled": true
   },
   "outputs": [
    {
     "data": {
      "text/plain": [
       "{3: {'avg_score': 0.76692708333333337,\n",
       "  'cv_scores': array([ 0.76692708]),\n",
       "  'feature_idx': (1, 2, 5)},\n",
       " 4: {'avg_score': 0.77213541666666663,\n",
       "  'cv_scores': array([ 0.77213542]),\n",
       "  'feature_idx': (1, 2, 5, 6)},\n",
       " 5: {'avg_score': 0.77604166666666663,\n",
       "  'cv_scores': array([ 0.77604167]),\n",
       "  'feature_idx': (0, 1, 2, 5, 6)},\n",
       " 6: {'avg_score': 0.7734375,\n",
       "  'cv_scores': array([ 0.7734375]),\n",
       "  'feature_idx': (0, 1, 2, 4, 5, 6)},\n",
       " 7: {'avg_score': 0.76822916666666663,\n",
       "  'cv_scores': array([ 0.76822917]),\n",
       "  'feature_idx': (0, 1, 2, 4, 5, 6, 7)},\n",
       " 8: {'avg_score': 0.76302083333333337,\n",
       "  'cv_scores': array([ 0.76302083]),\n",
       "  'feature_idx': (0, 1, 2, 3, 4, 5, 6, 7)}}"
      ]
     },
     "execution_count": 35,
     "metadata": {},
     "output_type": "execute_result"
    }
   ],
   "source": [
    "# Backward con Gaussian Bayes\n",
    "clf = GaussianNB()\n",
    "sfs1 = SFS(clf, k_features=3, forward=False, floating=False, verbose=0,scoring='accuracy',cv=0)\n",
    "sfs1 = sfs1.fit(X1, y1)\n",
    "sfs1.subsets_"
   ]
  },
  {
   "cell_type": "code",
   "execution_count": 36,
   "metadata": {},
   "outputs": [
    {
     "name": "stdout",
     "output_type": "stream",
     "text": [
      "Features sorted by their rank:\n",
      "[(1.0, 'mass'), (1.0, 'pedi'), (1.0, 'preg'), (2.0, 'plas'), (3.0, 'age'), (4.0, 'pres'), (5.0, 'test'), (6.0, 'skin')]\n",
      "Accuracy: 69.53%\n"
     ]
    }
   ],
   "source": [
    "#ELigiendo las tres mejores variables con RFE\n",
    "selector = RFE(estimator, 3, step=1)\n",
    "selector = selector.fit(X, y)\n",
    "print \"Features sorted by their rank:\"\n",
    "print sorted(zip(map(lambda x: round(x, 4), selector.ranking_), names))\n",
    "# evaluanado el modelo con las 3 features seleccionadas\n",
    "pred_y = selector.predict(X1)\n",
    "#Calculando accuracy\n",
    "acc=(y1==pred_y).sum()\n",
    "print(\"Accuracy: %.2f%%\" % (acc*100.0/float(len(y1))))"
   ]
  },
  {
   "cell_type": "code",
   "execution_count": 37,
   "metadata": {},
   "outputs": [
    {
     "data": {
      "text/plain": [
       "{1: {'avg_score': 0.58151071025930101,\n",
       "  'cv_scores': array([ 0.58151071]),\n",
       "  'feature_idx': (19,)},\n",
       " 2: {'avg_score': 0.77700112739571592,\n",
       "  'cv_scores': array([ 0.77700113]),\n",
       "  'feature_idx': (16, 19)},\n",
       " 3: {'avg_score': 0.80180383314543402,\n",
       "  'cv_scores': array([ 0.80180383]),\n",
       "  'feature_idx': (16, 17, 19)},\n",
       " 4: {'avg_score': 0.80270574971815112,\n",
       "  'cv_scores': array([ 0.80270575]),\n",
       "  'feature_idx': (16, 17, 19, 27)},\n",
       " 5: {'avg_score': 0.80789177001127399,\n",
       "  'cv_scores': array([ 0.80789177]),\n",
       "  'feature_idx': (9, 16, 17, 19, 27)}}"
      ]
     },
     "execution_count": 37,
     "metadata": {},
     "output_type": "execute_result"
    }
   ],
   "source": [
    "#Forward usando el clasificador Naive Bayes en Landsat\n",
    "url='http://academic.uprm.edu/eacuna/landsat.txt'\n",
    "data = pd.read_table(url, header=None,delim_whitespace=True)\n",
    "y=data.iloc[:,36]\n",
    "X=data.iloc[:,0:36]\n",
    "y1=y.as_matrix()\n",
    "X1=X.as_matrix()\n",
    "features, labels = X.values, y.values\n",
    "clf = GaussianNB()\n",
    "sfs1 = SFS(clf, k_features=5, forward=True, floating=False, verbose=0,scoring='accuracy',cv=0)\n",
    "sfs1 = sfs1.fit(X1, y1)\n",
    "sfs1.subsets_"
   ]
  }
 ],
 "metadata": {
  "kernelspec": {
   "display_name": "Python 2",
   "language": "python",
   "name": "python2"
  },
  "language_info": {
   "codemirror_mode": {
    "name": "ipython",
    "version": 2
   },
   "file_extension": ".py",
   "mimetype": "text/x-python",
   "name": "python",
   "nbconvert_exporter": "python",
   "pygments_lexer": "ipython2",
   "version": "2.7.13"
  }
 },
 "nbformat": 4,
 "nbformat_minor": 2
}
