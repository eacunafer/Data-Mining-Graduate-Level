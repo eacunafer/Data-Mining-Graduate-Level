{
 "cells": [
  {
   "cell_type": "markdown",
   "metadata": {},
   "source": [
    "### Introduccion a Python-I\n",
    "### Edgar Acuna\n",
    "### UPR-Math Department\n",
    "### Agosto 2018"
   ]
  },
  {
   "cell_type": "markdown",
   "metadata": {},
   "source": [
    "### I. Variables, enunciados, tipos de datos"
   ]
  },
  {
   "cell_type": "code",
   "execution_count": 1,
   "metadata": {},
   "outputs": [
    {
     "data": {
      "text/plain": [
       "44"
      ]
     },
     "execution_count": 1,
     "metadata": {},
     "output_type": "execute_result"
    }
   ],
   "source": [
    "2+3*14"
   ]
  },
  {
   "cell_type": "code",
   "execution_count": 2,
   "metadata": {},
   "outputs": [
    {
     "name": "stdout",
     "output_type": "stream",
     "text": [
      "8\n"
     ]
    }
   ],
   "source": [
    "x=3**2-1\n",
    "print x"
   ]
  },
  {
   "cell_type": "code",
   "execution_count": 3,
   "metadata": {},
   "outputs": [
    {
     "name": "stdout",
     "output_type": "stream",
     "text": [
      "<type 'int'>\n"
     ]
    }
   ],
   "source": [
    "print type(x)"
   ]
  },
  {
   "cell_type": "code",
   "execution_count": 4,
   "metadata": {},
   "outputs": [
    {
     "name": "stdout",
     "output_type": "stream",
     "text": [
      "2.66666666667\n"
     ]
    }
   ],
   "source": [
    "y=3.0\n",
    "print x/y"
   ]
  },
  {
   "cell_type": "code",
   "execution_count": 5,
   "metadata": {
    "scrolled": true
   },
   "outputs": [
    {
     "name": "stdout",
     "output_type": "stream",
     "text": [
      "2.667\n"
     ]
    }
   ],
   "source": [
    "print round(x/y,3)"
   ]
  },
  {
   "cell_type": "code",
   "execution_count": 6,
   "metadata": {},
   "outputs": [],
   "source": [
    "z=x/3"
   ]
  },
  {
   "cell_type": "code",
   "execution_count": 7,
   "metadata": {},
   "outputs": [
    {
     "name": "stdout",
     "output_type": "stream",
     "text": [
      "2\n"
     ]
    }
   ],
   "source": [
    "print z"
   ]
  },
  {
   "cell_type": "code",
   "execution_count": 8,
   "metadata": {},
   "outputs": [
    {
     "name": "stdout",
     "output_type": "stream",
     "text": [
      "Que edad tienes? 57\n"
     ]
    }
   ],
   "source": [
    "age = input(\"Que edad tienes? \")"
   ]
  },
  {
   "cell_type": "code",
   "execution_count": 9,
   "metadata": {},
   "outputs": [
    {
     "name": "stdout",
     "output_type": "stream",
     "text": [
      "Su edad es 57\n",
      "Usted tiene 8 anos para retirarse \n"
     ]
    }
   ],
   "source": [
    "print \"Su edad es\", age\n",
    "print \"Usted tiene\", 65 - age, \"anos para retirarse \""
   ]
  },
  {
   "cell_type": "code",
   "execution_count": 10,
   "metadata": {},
   "outputs": [
    {
     "name": "stdout",
     "output_type": "stream",
     "text": [
      "EDGAR ACUNA FERNANDEZ tiene 21 caracteres\n"
     ]
    }
   ],
   "source": [
    "name = \"Edgar Acuna Fernandez\"\n",
    "length = len(name)\n",
    "big_name = str.upper(name)\n",
    "print big_name, \"tiene\", length, \"caracteres\""
   ]
  },
  {
   "cell_type": "code",
   "execution_count": 11,
   "metadata": {},
   "outputs": [
    {
     "name": "stdout",
     "output_type": "stream",
     "text": [
      "hola Rosa\n"
     ]
    }
   ],
   "source": [
    "name = 'Rosa'\n",
    "print 'hola',name"
   ]
  },
  {
   "cell_type": "markdown",
   "metadata": {},
   "source": [
    "### II. Operadores de Comparacion"
   ]
  },
  {
   "cell_type": "code",
   "execution_count": 12,
   "metadata": {},
   "outputs": [
    {
     "data": {
      "text/plain": [
       "True"
      ]
     },
     "execution_count": 12,
     "metadata": {},
     "output_type": "execute_result"
    }
   ],
   "source": [
    "1 + 1 == 2"
   ]
  },
  {
   "cell_type": "code",
   "execution_count": 13,
   "metadata": {},
   "outputs": [
    {
     "data": {
      "text/plain": [
       "True"
      ]
     },
     "execution_count": 13,
     "metadata": {},
     "output_type": "execute_result"
    }
   ],
   "source": [
    "9 != 6 and 2 < 3"
   ]
  },
  {
   "cell_type": "code",
   "execution_count": 14,
   "metadata": {},
   "outputs": [
    {
     "data": {
      "text/plain": [
       "True"
      ]
     },
     "execution_count": 14,
     "metadata": {},
     "output_type": "execute_result"
    }
   ],
   "source": [
    "9!=6 & 2<3"
   ]
  },
  {
   "cell_type": "code",
   "execution_count": 15,
   "metadata": {},
   "outputs": [
    {
     "data": {
      "text/plain": [
       "True"
      ]
     },
     "execution_count": 15,
     "metadata": {},
     "output_type": "execute_result"
    }
   ],
   "source": [
    "2 == 3 or -1 < 5"
   ]
  },
  {
   "cell_type": "code",
   "execution_count": 16,
   "metadata": {},
   "outputs": [
    {
     "data": {
      "text/plain": [
       "True"
      ]
     },
     "execution_count": 16,
     "metadata": {},
     "output_type": "execute_result"
    }
   ],
   "source": [
    "(2 == 3)  | (-1 < 5)"
   ]
  },
  {
   "cell_type": "markdown",
   "metadata": {},
   "source": [
    "### III. Strings"
   ]
  },
  {
   "cell_type": "code",
   "execution_count": 17,
   "metadata": {},
   "outputs": [
    {
     "name": "stdout",
     "output_type": "stream",
     "text": [
      "EDGAR ACUNA FERNANDEZ tiene 21 caracteres\n"
     ]
    }
   ],
   "source": [
    "name = \"Edgar Acuna Fernandez\"\n",
    "length = len(name)\n",
    "big_name = str.upper(name)\n",
    "print big_name, \"tiene\", length, \"caracteres\""
   ]
  },
  {
   "cell_type": "markdown",
   "metadata": {},
   "source": [
    "### IV. Listas"
   ]
  },
  {
   "cell_type": "code",
   "execution_count": 18,
   "metadata": {},
   "outputs": [
    {
     "name": "stdout",
     "output_type": "stream",
     "text": [
      "<type 'list'>\n"
     ]
    }
   ],
   "source": [
    "A=[0]\n",
    "B=[2.3, 4.5]\n",
    "C=[5, \"Hello\", \"there\", 9.8]\n",
    "print type(C)\n",
    "D=[]"
   ]
  },
  {
   "cell_type": "code",
   "execution_count": 19,
   "metadata": {},
   "outputs": [],
   "source": [
    "B.append(\"ana\")"
   ]
  },
  {
   "cell_type": "code",
   "execution_count": 20,
   "metadata": {},
   "outputs": [
    {
     "data": {
      "text/plain": [
       "[2.3, 4.5, 'ana']"
      ]
     },
     "execution_count": 20,
     "metadata": {},
     "output_type": "execute_result"
    }
   ],
   "source": [
    "B"
   ]
  },
  {
   "cell_type": "code",
   "execution_count": 21,
   "metadata": {},
   "outputs": [
    {
     "data": {
      "text/plain": [
       "['Hello', 'there', 9.8]"
      ]
     },
     "execution_count": 21,
     "metadata": {},
     "output_type": "execute_result"
    }
   ],
   "source": [
    "C.remove(5)\n",
    "C"
   ]
  },
  {
   "cell_type": "code",
   "execution_count": 22,
   "metadata": {},
   "outputs": [
    {
     "data": {
      "text/plain": [
       "[2.3, 4.5, 'ana']"
      ]
     },
     "execution_count": 22,
     "metadata": {},
     "output_type": "execute_result"
    }
   ],
   "source": [
    "B"
   ]
  },
  {
   "cell_type": "code",
   "execution_count": 23,
   "metadata": {},
   "outputs": [],
   "source": [
    "B.remove(2.3)"
   ]
  },
  {
   "cell_type": "code",
   "execution_count": 24,
   "metadata": {},
   "outputs": [
    {
     "data": {
      "text/plain": [
       "[4.5, 'ana']"
      ]
     },
     "execution_count": 24,
     "metadata": {},
     "output_type": "execute_result"
    }
   ],
   "source": [
    "B"
   ]
  },
  {
   "cell_type": "code",
   "execution_count": 25,
   "metadata": {},
   "outputs": [
    {
     "name": "stdout",
     "output_type": "stream",
     "text": [
      "3\n"
     ]
    }
   ],
   "source": [
    "names = [\"Ana\", \"Rosa\", \"Julia\"]\n",
    "print len(names)"
   ]
  },
  {
   "cell_type": "code",
   "execution_count": 26,
   "metadata": {},
   "outputs": [
    {
     "name": "stdout",
     "output_type": "stream",
     "text": [
      "Ana\n",
      "Rosa\n",
      "Julia\n"
     ]
    }
   ],
   "source": [
    "print names[0]\n",
    "print names[1]\n",
    "print names[2]"
   ]
  },
  {
   "cell_type": "code",
   "execution_count": 27,
   "metadata": {},
   "outputs": [
    {
     "name": "stdout",
     "output_type": "stream",
     "text": [
      "Julia\n",
      "Rosa\n",
      "Ana\n"
     ]
    }
   ],
   "source": [
    "print names[-1]\n",
    "print names[-2]\n",
    "print names[-3]"
   ]
  },
  {
   "cell_type": "markdown",
   "metadata": {},
   "source": [
    "### V. Range"
   ]
  },
  {
   "cell_type": "code",
   "execution_count": 28,
   "metadata": {},
   "outputs": [
    {
     "data": {
      "text/plain": [
       "[0, 1, 2, 3, 4]"
      ]
     },
     "execution_count": 28,
     "metadata": {},
     "output_type": "execute_result"
    }
   ],
   "source": [
    "range(5)"
   ]
  },
  {
   "cell_type": "code",
   "execution_count": 29,
   "metadata": {},
   "outputs": [
    {
     "data": {
      "text/plain": [
       "[5, 6, 7, 8, 9]"
      ]
     },
     "execution_count": 29,
     "metadata": {},
     "output_type": "execute_result"
    }
   ],
   "source": [
    "range(5, 10)"
   ]
  },
  {
   "cell_type": "code",
   "execution_count": 30,
   "metadata": {},
   "outputs": [
    {
     "data": {
      "text/plain": [
       "[0, 2, 4, 6, 8]"
      ]
     },
     "execution_count": 30,
     "metadata": {},
     "output_type": "execute_result"
    }
   ],
   "source": [
    "range(0, 10, 2)"
   ]
  },
  {
   "cell_type": "markdown",
   "metadata": {},
   "source": [
    "### VI. Condicionales"
   ]
  },
  {
   "cell_type": "code",
   "execution_count": 31,
   "metadata": {},
   "outputs": [
    {
     "name": "stdout",
     "output_type": "stream",
     "text": [
      "su solicitud es aceptada.\n"
     ]
    }
   ],
   "source": [
    "gpa = 3.4\n",
    "if gpa > 2.0:\n",
    "    print \"su solicitud es aceptada.\""
   ]
  },
  {
   "cell_type": "code",
   "execution_count": 32,
   "metadata": {},
   "outputs": [
    {
     "name": "stdout",
     "output_type": "stream",
     "text": [
      "Su solicitud es denegada.\n"
     ]
    }
   ],
   "source": [
    "gpa = 1.4\n",
    "if gpa >= 2.5:\n",
    "    print \"Bienvenido a la la UPR!\"\n",
    "else:\n",
    "    print \"Su solicitud es denegada.\""
   ]
  },
  {
   "cell_type": "code",
   "execution_count": 33,
   "metadata": {},
   "outputs": [
    {
     "name": "stdout",
     "output_type": "stream",
     "text": [
      "Ana and Rosa\n"
     ]
    }
   ],
   "source": [
    "Ana=3\n",
    "Rosa=25\n",
    "if (Ana <= 5 and Rosa >= 10 or Rosa == 500 and Ana != 5):\n",
    "    print \"Ana and Rosa\""
   ]
  },
  {
   "cell_type": "markdown",
   "metadata": {},
   "source": [
    "### VII. Loops"
   ]
  },
  {
   "cell_type": "code",
   "execution_count": 34,
   "metadata": {},
   "outputs": [
    {
     "name": "stdout",
     "output_type": "stream",
     "text": [
      "1 squared is 1\n",
      "2 squared is 4\n",
      "3 squared is 9\n"
     ]
    }
   ],
   "source": [
    "for x in range(1, 4):\n",
    "    print x, \"squared is\", x * x"
   ]
  },
  {
   "cell_type": "code",
   "execution_count": 35,
   "metadata": {},
   "outputs": [
    {
     "name": "stdout",
     "output_type": "stream",
     "text": [
      "Ana\n",
      "Rosa\n",
      "Julia\n"
     ]
    }
   ],
   "source": [
    "names = [\"Ana\", \"Rosa\", \"Julia\"]\n",
    "for name in names:\n",
    "    print name"
   ]
  },
  {
   "cell_type": "code",
   "execution_count": 36,
   "metadata": {},
   "outputs": [
    {
     "name": "stdout",
     "output_type": "stream",
     "text": [
      "[0, 1, 4, 9, 16]\n"
     ]
    }
   ],
   "source": [
    "nums = [0, 1, 2, 3, 4]\n",
    "squares = [x ** 2 for x in nums]\n",
    "print(squares)  "
   ]
  },
  {
   "cell_type": "code",
   "execution_count": 37,
   "metadata": {},
   "outputs": [
    {
     "name": "stdout",
     "output_type": "stream",
     "text": [
      "Checking 3\n",
      "The square is 9\n",
      "Checking 1\n",
      "Ignoring\n",
      "Checking 4\n",
      "The square is 16\n",
      "Checking 1\n",
      "Ignoring\n",
      "Checking 5\n",
      "The square is 25\n",
      "Checking 9\n",
      "Exiting for loop\n"
     ]
    }
   ],
   "source": [
    "for value in [3, 1, 4, 1, 5, 9, 2]:\n",
    "    print \"Checking\", value\n",
    "    if value > 8:\n",
    "        print \"Exiting for loop\"\n",
    "        break\n",
    "    elif value < 3:\n",
    "        print \"Ignoring\"\n",
    "        continue\n",
    "    print \"The square is\", value**2"
   ]
  },
  {
   "cell_type": "code",
   "execution_count": 38,
   "metadata": {},
   "outputs": [
    {
     "name": "stdout",
     "output_type": "stream",
     "text": [
      "1 2 4 8 16 32 64 128\n"
     ]
    }
   ],
   "source": [
    "number = 1\n",
    "while number < 200:\n",
    "    print number, \n",
    "    number = number * 2"
   ]
  },
  {
   "cell_type": "markdown",
   "metadata": {},
   "source": [
    "### VIII. Input de Files (Localmente)"
   ]
  },
  {
   "cell_type": "code",
   "execution_count": 47,
   "metadata": {},
   "outputs": [
    {
     "name": "stdout",
     "output_type": "stream",
     "text": [
      "Specie,body,brain\n",
      "Lesser short-tailed shrew,0.005,0.14\n",
      "Little brown bat,0.01,0.25\n",
      "Big brown bat,0.023,0.3\n",
      "Mouse,0.023,0.4\n",
      "Musk shrew,0.048,0.33\n",
      "Star-nosed mole,0.06,1\n",
      "E. American mole,0.075,1.2\n",
      "Ground squirrel,0.101,4\n",
      "Tree shrew,0.104,2.5\n",
      "Golden hamster,0.12,1\n",
      "Mole,0.122,3\n",
      "Galago,0.2,5\n",
      "Rat,0.28,1.9\n",
      "Chinchilla,0.425,6.4\n",
      "Owl monkey,0.48,15.5\n",
      "Desert hedgehog,0.55,2.4\n",
      "Rock hyrax-a,0.75,12.3\n",
      "European hedgehog,0.785,3.5\n",
      "Tenrec,0.9,2.6\n",
      "Artic ground squirrel,0.92,5.7\n",
      "African giant pouched rat,1,6.6\n",
      "Guinea pig,1.04,5.5\n",
      "Mountain beaver,1.35,8.1\n",
      "Slow loris,1.4,12.5\n",
      "Genet,1.41,17.5\n",
      "Phalanger,1.62,11.4\n",
      "N.A. opossum,1.7,6.3\n",
      "Tree hyrax,2,12.3\n",
      "Rabbit,2.5,12.1\n",
      "Echidna,3,25\n",
      "Cat,3.3,25.6\n",
      "Artic fox,3.385,44.5\n",
      "Water opossum,3.5,3.9\n",
      "Nine-banded armadillo,3.5,10.8\n",
      "Rock hyrax-b,3.6,21\n",
      "Yellow-bellied marmot,4.05,17\n",
      "Verbet,4.19,58\n",
      "Red fox,4.235,50.4\n",
      "Raccoon,4.288,39.2\n",
      "Rhesus monkey,6.8,179\n",
      "Potar monkey,10,115\n",
      "Baboon,10.55,179.5\n",
      "Roe deer,14.83,98.2\n",
      "Goat,27.66,115\n",
      "Kangaroo,35,56\n",
      "Grey wolf,36.33,119.5\n",
      "Chimpanzee,52.16,440\n",
      "Sheep,55.5,175\n",
      "Giant armadillo,60,81\n",
      "Human,62,1320\n",
      "Grey seal,85,325\n",
      "Jaguar,100,157\n",
      "Brazilian tapir,160,169\n",
      "Donkey,187.1,419\n",
      "Pig,192,180\n",
      "Gorilla,207,406\n",
      "Okapi,250,490\n",
      "Cow,465,423\n",
      "Horse,521,655\n",
      "Giraffe,529,680\n",
      "Asian elephant,2547,4603\n",
      "African elephant,6654,5712\n",
      "Triceratops,9400,70\n",
      "Dipliodocus,11700,50\n",
      "Brachiosaurus,87000,154.5\n",
      "\n"
     ]
    }
   ],
   "source": [
    "File=open(\"c://esma3016/Animals2.csv\").read()\n",
    "print File"
   ]
  },
  {
   "cell_type": "code",
   "execution_count": 43,
   "metadata": {},
   "outputs": [
    {
     "data": {
      "text/plain": [
       "['Specie,body,brain\\n',\n",
       " 'Lesser short-tailed shrew,0.005,0.14\\n',\n",
       " 'Little brown bat,0.01,0.25\\n',\n",
       " 'Big brown bat,0.023,0.3\\n',\n",
       " 'Mouse,0.023,0.4\\n',\n",
       " 'Musk shrew,0.048,0.33\\n',\n",
       " 'Star-nosed mole,0.06,1\\n',\n",
       " 'E. American mole,0.075,1.2\\n',\n",
       " 'Ground squirrel,0.101,4\\n',\n",
       " 'Tree shrew,0.104,2.5\\n',\n",
       " 'Golden hamster,0.12,1\\n',\n",
       " 'Mole,0.122,3\\n',\n",
       " 'Galago,0.2,5\\n',\n",
       " 'Rat,0.28,1.9\\n',\n",
       " 'Chinchilla,0.425,6.4\\n',\n",
       " 'Owl monkey,0.48,15.5\\n',\n",
       " 'Desert hedgehog,0.55,2.4\\n',\n",
       " 'Rock hyrax-a,0.75,12.3\\n',\n",
       " 'European hedgehog,0.785,3.5\\n',\n",
       " 'Tenrec,0.9,2.6\\n',\n",
       " 'Artic ground squirrel,0.92,5.7\\n',\n",
       " 'African giant pouched rat,1,6.6\\n',\n",
       " 'Guinea pig,1.04,5.5\\n',\n",
       " 'Mountain beaver,1.35,8.1\\n',\n",
       " 'Slow loris,1.4,12.5\\n',\n",
       " 'Genet,1.41,17.5\\n',\n",
       " 'Phalanger,1.62,11.4\\n',\n",
       " 'N.A. opossum,1.7,6.3\\n',\n",
       " 'Tree hyrax,2,12.3\\n',\n",
       " 'Rabbit,2.5,12.1\\n',\n",
       " 'Echidna,3,25\\n',\n",
       " 'Cat,3.3,25.6\\n',\n",
       " 'Artic fox,3.385,44.5\\n',\n",
       " 'Water opossum,3.5,3.9\\n',\n",
       " 'Nine-banded armadillo,3.5,10.8\\n',\n",
       " 'Rock hyrax-b,3.6,21\\n',\n",
       " 'Yellow-bellied marmot,4.05,17\\n',\n",
       " 'Verbet,4.19,58\\n',\n",
       " 'Red fox,4.235,50.4\\n',\n",
       " 'Raccoon,4.288,39.2\\n',\n",
       " 'Rhesus monkey,6.8,179\\n',\n",
       " 'Potar monkey,10,115\\n',\n",
       " 'Baboon,10.55,179.5\\n',\n",
       " 'Roe deer,14.83,98.2\\n',\n",
       " 'Goat,27.66,115\\n',\n",
       " 'Kangaroo,35,56\\n',\n",
       " 'Grey wolf,36.33,119.5\\n',\n",
       " 'Chimpanzee,52.16,440\\n',\n",
       " 'Sheep,55.5,175\\n',\n",
       " 'Giant armadillo,60,81\\n',\n",
       " 'Human,62,1320\\n',\n",
       " 'Grey seal,85,325\\n',\n",
       " 'Jaguar,100,157\\n',\n",
       " 'Brazilian tapir,160,169\\n',\n",
       " 'Donkey,187.1,419\\n',\n",
       " 'Pig,192,180\\n',\n",
       " 'Gorilla,207,406\\n',\n",
       " 'Okapi,250,490\\n',\n",
       " 'Cow,465,423\\n',\n",
       " 'Horse,521,655\\n',\n",
       " 'Giraffe,529,680\\n',\n",
       " 'Asian elephant,2547,4603\\n',\n",
       " 'African elephant,6654,5712\\n',\n",
       " 'Triceratops,9400,70\\n',\n",
       " 'Dipliodocus,11700,50\\n',\n",
       " 'Brachiosaurus,87000,154.5\\n']"
      ]
     },
     "execution_count": 43,
     "metadata": {},
     "output_type": "execute_result"
    }
   ],
   "source": [
    "lst= [ x for x in open(\"c://esma3016/Animals2.csv\",\"r\").readlines()]\n",
    "lst"
   ]
  },
  {
   "cell_type": "markdown",
   "metadata": {},
   "source": [
    "### IX. Modulos"
   ]
  },
  {
   "cell_type": "code",
   "execution_count": null,
   "metadata": {},
   "outputs": [],
   "source": [
    "dir(__builtins__) "
   ]
  },
  {
   "cell_type": "code",
   "execution_count": null,
   "metadata": {},
   "outputs": [],
   "source": [
    "import math\n",
    "import math as m\n",
    "m.sin(m.pi)"
   ]
  },
  {
   "cell_type": "code",
   "execution_count": null,
   "metadata": {},
   "outputs": [],
   "source": [
    "#importa solo las funciones cos y pi de math\n",
    "from math import cos, pi\n",
    "cos(pi)"
   ]
  },
  {
   "cell_type": "code",
   "execution_count": 45,
   "metadata": {},
   "outputs": [
    {
     "data": {
      "text/plain": [
       "7.38905609893065"
      ]
     },
     "execution_count": 45,
     "metadata": {},
     "output_type": "execute_result"
    }
   ],
   "source": [
    "#importando todas las funciones de math\n",
    "from math import *\n",
    "exp(2.0)"
   ]
  },
  {
   "cell_type": "code",
   "execution_count": 44,
   "metadata": {},
   "outputs": [],
   "source": [
    "import numpy as np\n",
    "import pandas as pd\n",
    "import matplotlib.pyplot as plt\n",
    "import scipy.stats as stt"
   ]
  },
  {
   "cell_type": "markdown",
   "metadata": {},
   "source": [
    "### X. Funciones "
   ]
  },
  {
   "cell_type": "code",
   "execution_count": null,
   "metadata": {},
   "outputs": [],
   "source": [
    "def admision(igs):\n",
    "    if igs >=300:\n",
    "        return 'Admitido'\n",
    "    else:\n",
    "        return 'Denegado'"
   ]
  },
  {
   "cell_type": "code",
   "execution_count": null,
   "metadata": {},
   "outputs": [],
   "source": [
    "admision(igs=306)"
   ]
  },
  {
   "cell_type": "code",
   "execution_count": null,
   "metadata": {},
   "outputs": [],
   "source": [
    "#Aplicando la funcion a 3 estudiantes\n",
    "for x in [310, 290, 289]:\n",
    "    print(admision(x))"
   ]
  },
  {
   "cell_type": "code",
   "execution_count": null,
   "metadata": {},
   "outputs": [],
   "source": [
    "def admision1(nombre,igs):\n",
    "    if igs>=350:\n",
    "        print nombre, 'fue Admitido'\n",
    "    elif igs<270:\n",
    "        print nombre,'fue Denegado'\n",
    "    else:\n",
    "        print nombre, 'esta en la lista de espera'"
   ]
  },
  {
   "cell_type": "code",
   "execution_count": null,
   "metadata": {},
   "outputs": [],
   "source": [
    "admision1(\"juan\",igs=300)"
   ]
  },
  {
   "cell_type": "code",
   "execution_count": null,
   "metadata": {},
   "outputs": [],
   "source": [
    "admision1('Pedro',igs=200)"
   ]
  },
  {
   "cell_type": "markdown",
   "metadata": {
    "collapsed": true
   },
   "source": [
    "### XI. Maps y Lambdas"
   ]
  },
  {
   "cell_type": "code",
   "execution_count": null,
   "metadata": {},
   "outputs": [],
   "source": [
    "x=(4,5,6)\n",
    "x*3"
   ]
  },
  {
   "cell_type": "code",
   "execution_count": null,
   "metadata": {},
   "outputs": [],
   "source": [
    "def cuadrar(n):  \n",
    "      return n*n\n",
    "x = (1, 2, 3, 4)\n",
    "res= map(cuadrar, x)\n",
    "print(res)"
   ]
  },
  {
   "cell_type": "code",
   "execution_count": null,
   "metadata": {},
   "outputs": [],
   "source": [
    "z = (1, 2, 3, 4)\n",
    "res = map(lambda x: x*x, z)\n",
    "print(res)"
   ]
  },
  {
   "cell_type": "code",
   "execution_count": null,
   "metadata": {},
   "outputs": [],
   "source": [
    "#Ejemplo de funcion lambda con dos aargumnetos\n",
    "x= [4, 5, 6]\n",
    "y= [5, 6, 7]\n",
    "result = map(lambda n1, n2: n1+n2, x, y)\n",
    "print(list(result))"
   ]
  },
  {
   "cell_type": "markdown",
   "metadata": {},
   "source": [
    "### XII. Clases"
   ]
  },
  {
   "cell_type": "code",
   "execution_count": null,
   "metadata": {},
   "outputs": [],
   "source": [
    "class Admit:\n",
    "\n",
    "    # Constructor\n",
    "    def __init__(self, name):\n",
    "        self.name = name  # Create an instance variable\n",
    "    pueblo=\"Mayaguez\" \n",
    "    # Instance method\n",
    "    def admision2(self, igs):\n",
    "        if igs>=350:\n",
    "            print self.name, 'fue Admitido' \n",
    "        elif igs<270:\n",
    "            print self.name, 'fue Denegado' \n",
    "        else:\n",
    "            print self.name, 'esta en la lista de espera'\n",
    "    def admision3(self, igs,escuela):\n",
    "        if igs>=350 and escuela==\"Privada\":\n",
    "            \n",
    "            print self.name, 'fue Admitido' \n",
    "        elif igs<270 and escuela=='Publica':\n",
    "            print self.name, 'fue Denegado' \n",
    "        else:\n",
    "            print self.name, 'esta en la lista de espera'"
   ]
  },
  {
   "cell_type": "code",
   "execution_count": null,
   "metadata": {},
   "outputs": [],
   "source": [
    "Admit.pueblo"
   ]
  },
  {
   "cell_type": "code",
   "execution_count": null,
   "metadata": {},
   "outputs": [],
   "source": [
    "adm= Admit(\"Juan\") # Construye una isntancia de la clase Admit"
   ]
  },
  {
   "cell_type": "code",
   "execution_count": null,
   "metadata": {},
   "outputs": [],
   "source": [
    "adm.admision2(igs=385)   # Llama un metodo instancia; imprime \"Juan\", \"Denegado\"\n",
    "adm.admision3(igs=280,escuela='Privada')"
   ]
  }
 ],
 "metadata": {
  "kernelspec": {
   "display_name": "Python 2",
   "language": "python",
   "name": "python2"
  },
  "language_info": {
   "codemirror_mode": {
    "name": "ipython",
    "version": 2
   },
   "file_extension": ".py",
   "mimetype": "text/x-python",
   "name": "python",
   "nbconvert_exporter": "python",
   "pygments_lexer": "ipython2",
   "version": "2.7.13"
  }
 },
 "nbformat": 4,
 "nbformat_minor": 2
}
